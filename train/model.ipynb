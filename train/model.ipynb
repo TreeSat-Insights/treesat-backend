{
 "cells": [
  {
   "cell_type": "code",
   "execution_count": 23,
   "metadata": {},
   "outputs": [],
   "source": [
    "import keras\n",
    "import numpy as np\n",
    "from sklearn.model_selection import train_test_split"
   ]
  },
  {
   "cell_type": "code",
   "execution_count": 66,
   "metadata": {},
   "outputs": [],
   "source": [
    "NO_BARK_BEETLE = \"dataset/no_bark_beetle.npy\"\n",
    "BARK_BEETLE = \"dataset/bark_beetle.npy\""
   ]
  },
  {
   "cell_type": "code",
   "execution_count": 67,
   "metadata": {},
   "outputs": [],
   "source": [
    "no_beetle_data = np.load(NO_BARK_BEETLE)\n",
    "no_beetle_labels = np.zeros(no_beetle_data.shape[0])\n",
    "\n",
    "beetle_data = np.load(BARK_BEETLE)\n",
    "beetle_labels = np.ones(beetle_data.shape[0])\n",
    "\n",
    "\n",
    "data = np.concatenate((beetle_data, no_beetle_data))\n",
    "labels = np.concatenate((beetle_labels, no_beetle_labels))\n"
   ]
  },
  {
   "cell_type": "code",
   "execution_count": 68,
   "metadata": {},
   "outputs": [
    {
     "data": {
      "text/plain": [
       "(99, 31, 14, 10)"
      ]
     },
     "execution_count": 68,
     "metadata": {},
     "output_type": "execute_result"
    }
   ],
   "source": [
    "data.shape"
   ]
  },
  {
   "cell_type": "code",
   "execution_count": 173,
   "metadata": {},
   "outputs": [],
   "source": [
    "a = np.expand_dims(labels, axis=1)"
   ]
  },
  {
   "cell_type": "code",
   "execution_count": 174,
   "metadata": {},
   "outputs": [
    {
     "data": {
      "text/plain": [
       "(99, 1)"
      ]
     },
     "execution_count": 174,
     "metadata": {},
     "output_type": "execute_result"
    }
   ],
   "source": [
    "a.shape"
   ]
  },
  {
   "cell_type": "code",
   "execution_count": 69,
   "metadata": {},
   "outputs": [
    {
     "data": {
      "text/plain": [
       "(99,)"
      ]
     },
     "execution_count": 69,
     "metadata": {},
     "output_type": "execute_result"
    }
   ],
   "source": [
    "labels.shape"
   ]
  },
  {
   "cell_type": "code",
   "execution_count": 197,
   "metadata": {},
   "outputs": [],
   "source": [
    "X_train, X_val, y_train, y_val = train_test_split(data, a, test_size=0.2, shuffle=True)"
   ]
  },
  {
   "cell_type": "code",
   "execution_count": 176,
   "metadata": {},
   "outputs": [
    {
     "name": "stdout",
     "output_type": "stream",
     "text": [
      "(79, 31, 14, 10)\n",
      "(20, 31, 14, 10)\n",
      "(79, 1)\n",
      "(20, 1)\n"
     ]
    }
   ],
   "source": [
    "print(X_train.shape)\n",
    "print(X_val.shape)\n",
    "print(y_train.shape)\n",
    "print(y_val.shape)"
   ]
  },
  {
   "cell_type": "code",
   "execution_count": 223,
   "metadata": {},
   "outputs": [
    {
     "name": "stderr",
     "output_type": "stream",
     "text": [
      "/home/davide/VirtualEnvs/junction2024/lib64/python3.12/site-packages/keras/src/layers/rnn/rnn.py:204: UserWarning: Do not pass an `input_shape`/`input_dim` argument to a layer. When using Sequential models, prefer using an `Input(shape)` object as the first layer in the model instead.\n",
      "  super().__init__(**kwargs)\n"
     ]
    }
   ],
   "source": [
    "# create and fit the LSTM network\n",
    "model = keras.Sequential()\n",
    "model.add(keras.layers.TimeDistributed(keras.layers.LSTM(48, input_shape=(None, 14, 10))))\n",
    "model.add(keras.layers.Flatten())\n",
    "model.add(keras.layers.Dense(24, activation='relu'))\n",
    "model.add(keras.layers.Dense(1, activation='sigmoid'))"
   ]
  },
  {
   "cell_type": "code",
   "execution_count": 224,
   "metadata": {},
   "outputs": [
    {
     "data": {
      "text/html": [
       "<pre style=\"white-space:pre;overflow-x:auto;line-height:normal;font-family:Menlo,'DejaVu Sans Mono',consolas,'Courier New',monospace\"><span style=\"font-weight: bold\">Model: \"sequential_58\"</span>\n",
       "</pre>\n"
      ],
      "text/plain": [
       "\u001b[1mModel: \"sequential_58\"\u001b[0m\n"
      ]
     },
     "metadata": {},
     "output_type": "display_data"
    },
    {
     "data": {
      "text/html": [
       "<pre style=\"white-space:pre;overflow-x:auto;line-height:normal;font-family:Menlo,'DejaVu Sans Mono',consolas,'Courier New',monospace\">┏━━━━━━━━━━━━━━━━━━━━━━━━━━━━━━━━━┳━━━━━━━━━━━━━━━━━━━━━━━━┳━━━━━━━━━━━━━━━┓\n",
       "┃<span style=\"font-weight: bold\"> Layer (type)                    </span>┃<span style=\"font-weight: bold\"> Output Shape           </span>┃<span style=\"font-weight: bold\">       Param # </span>┃\n",
       "┡━━━━━━━━━━━━━━━━━━━━━━━━━━━━━━━━━╇━━━━━━━━━━━━━━━━━━━━━━━━╇━━━━━━━━━━━━━━━┩\n",
       "│ time_distributed_47             │ ?                      │   <span style=\"color: #00af00; text-decoration-color: #00af00\">0</span> (unbuilt) │\n",
       "│ (<span style=\"color: #0087ff; text-decoration-color: #0087ff\">TimeDistributed</span>)               │                        │               │\n",
       "├─────────────────────────────────┼────────────────────────┼───────────────┤\n",
       "│ flatten_40 (<span style=\"color: #0087ff; text-decoration-color: #0087ff\">Flatten</span>)            │ ?                      │   <span style=\"color: #00af00; text-decoration-color: #00af00\">0</span> (unbuilt) │\n",
       "├─────────────────────────────────┼────────────────────────┼───────────────┤\n",
       "│ dense_62 (<span style=\"color: #0087ff; text-decoration-color: #0087ff\">Dense</span>)                │ ?                      │   <span style=\"color: #00af00; text-decoration-color: #00af00\">0</span> (unbuilt) │\n",
       "├─────────────────────────────────┼────────────────────────┼───────────────┤\n",
       "│ dense_63 (<span style=\"color: #0087ff; text-decoration-color: #0087ff\">Dense</span>)                │ ?                      │   <span style=\"color: #00af00; text-decoration-color: #00af00\">0</span> (unbuilt) │\n",
       "└─────────────────────────────────┴────────────────────────┴───────────────┘\n",
       "</pre>\n"
      ],
      "text/plain": [
       "┏━━━━━━━━━━━━━━━━━━━━━━━━━━━━━━━━━┳━━━━━━━━━━━━━━━━━━━━━━━━┳━━━━━━━━━━━━━━━┓\n",
       "┃\u001b[1m \u001b[0m\u001b[1mLayer (type)                   \u001b[0m\u001b[1m \u001b[0m┃\u001b[1m \u001b[0m\u001b[1mOutput Shape          \u001b[0m\u001b[1m \u001b[0m┃\u001b[1m \u001b[0m\u001b[1m      Param #\u001b[0m\u001b[1m \u001b[0m┃\n",
       "┡━━━━━━━━━━━━━━━━━━━━━━━━━━━━━━━━━╇━━━━━━━━━━━━━━━━━━━━━━━━╇━━━━━━━━━━━━━━━┩\n",
       "│ time_distributed_47             │ ?                      │   \u001b[38;5;34m0\u001b[0m (unbuilt) │\n",
       "│ (\u001b[38;5;33mTimeDistributed\u001b[0m)               │                        │               │\n",
       "├─────────────────────────────────┼────────────────────────┼───────────────┤\n",
       "│ flatten_40 (\u001b[38;5;33mFlatten\u001b[0m)            │ ?                      │   \u001b[38;5;34m0\u001b[0m (unbuilt) │\n",
       "├─────────────────────────────────┼────────────────────────┼───────────────┤\n",
       "│ dense_62 (\u001b[38;5;33mDense\u001b[0m)                │ ?                      │   \u001b[38;5;34m0\u001b[0m (unbuilt) │\n",
       "├─────────────────────────────────┼────────────────────────┼───────────────┤\n",
       "│ dense_63 (\u001b[38;5;33mDense\u001b[0m)                │ ?                      │   \u001b[38;5;34m0\u001b[0m (unbuilt) │\n",
       "└─────────────────────────────────┴────────────────────────┴───────────────┘\n"
      ]
     },
     "metadata": {},
     "output_type": "display_data"
    },
    {
     "data": {
      "text/html": [
       "<pre style=\"white-space:pre;overflow-x:auto;line-height:normal;font-family:Menlo,'DejaVu Sans Mono',consolas,'Courier New',monospace\"><span style=\"font-weight: bold\"> Total params: </span><span style=\"color: #00af00; text-decoration-color: #00af00\">0</span> (0.00 B)\n",
       "</pre>\n"
      ],
      "text/plain": [
       "\u001b[1m Total params: \u001b[0m\u001b[38;5;34m0\u001b[0m (0.00 B)\n"
      ]
     },
     "metadata": {},
     "output_type": "display_data"
    },
    {
     "data": {
      "text/html": [
       "<pre style=\"white-space:pre;overflow-x:auto;line-height:normal;font-family:Menlo,'DejaVu Sans Mono',consolas,'Courier New',monospace\"><span style=\"font-weight: bold\"> Trainable params: </span><span style=\"color: #00af00; text-decoration-color: #00af00\">0</span> (0.00 B)\n",
       "</pre>\n"
      ],
      "text/plain": [
       "\u001b[1m Trainable params: \u001b[0m\u001b[38;5;34m0\u001b[0m (0.00 B)\n"
      ]
     },
     "metadata": {},
     "output_type": "display_data"
    },
    {
     "data": {
      "text/html": [
       "<pre style=\"white-space:pre;overflow-x:auto;line-height:normal;font-family:Menlo,'DejaVu Sans Mono',consolas,'Courier New',monospace\"><span style=\"font-weight: bold\"> Non-trainable params: </span><span style=\"color: #00af00; text-decoration-color: #00af00\">0</span> (0.00 B)\n",
       "</pre>\n"
      ],
      "text/plain": [
       "\u001b[1m Non-trainable params: \u001b[0m\u001b[38;5;34m0\u001b[0m (0.00 B)\n"
      ]
     },
     "metadata": {},
     "output_type": "display_data"
    }
   ],
   "source": [
    "model.summary()"
   ]
  },
  {
   "cell_type": "code",
   "execution_count": 225,
   "metadata": {},
   "outputs": [],
   "source": [
    "model.compile(\n",
    "    optimizer=keras.optimizers.Adam(0.001), loss=\"binary_crossentropy\", metrics=[keras.metrics.BinaryAccuracy()]\n",
    ")"
   ]
  },
  {
   "cell_type": "code",
   "execution_count": 226,
   "metadata": {},
   "outputs": [
    {
     "name": "stdout",
     "output_type": "stream",
     "text": [
      "Epoch 1/5\n",
      "\u001b[1m3/3\u001b[0m \u001b[32m━━━━━━━━━━━━━━━━━━━━\u001b[0m\u001b[37m\u001b[0m \u001b[1m35s\u001b[0m 5s/step - binary_accuracy: 0.7352 - loss: 0.5908 - val_binary_accuracy: 0.8500 - val_loss: 0.4553\n",
      "Epoch 2/5\n",
      "\u001b[1m3/3\u001b[0m \u001b[32m━━━━━━━━━━━━━━━━━━━━\u001b[0m\u001b[37m\u001b[0m \u001b[1m0s\u001b[0m 68ms/step - binary_accuracy: 0.8893 - loss: 0.3709 - val_binary_accuracy: 1.0000 - val_loss: 0.3381\n",
      "Epoch 3/5\n",
      "\u001b[1m3/3\u001b[0m \u001b[32m━━━━━━━━━━━━━━━━━━━━\u001b[0m\u001b[37m\u001b[0m \u001b[1m0s\u001b[0m 68ms/step - binary_accuracy: 0.9386 - loss: 0.2366 - val_binary_accuracy: 1.0000 - val_loss: 0.2109\n",
      "Epoch 4/5\n",
      "\u001b[1m3/3\u001b[0m \u001b[32m━━━━━━━━━━━━━━━━━━━━\u001b[0m\u001b[37m\u001b[0m \u001b[1m0s\u001b[0m 75ms/step - binary_accuracy: 0.9152 - loss: 0.1771 - val_binary_accuracy: 1.0000 - val_loss: 0.1397\n",
      "Epoch 5/5\n",
      "\u001b[1m3/3\u001b[0m \u001b[32m━━━━━━━━━━━━━━━━━━━━\u001b[0m\u001b[37m\u001b[0m \u001b[1m0s\u001b[0m 70ms/step - binary_accuracy: 0.9795 - loss: 0.1057 - val_binary_accuracy: 1.0000 - val_loss: 0.1164\n"
     ]
    },
    {
     "data": {
      "text/plain": [
       "<keras.src.callbacks.history.History at 0x7f77a17cd460>"
      ]
     },
     "execution_count": 226,
     "metadata": {},
     "output_type": "execute_result"
    }
   ],
   "source": [
    "model.fit(\n",
    "    X_train,\n",
    "    y_train,\n",
    "    validation_data=(X_val, y_val),\n",
    "    epochs=5\n",
    ")"
   ]
  },
  {
   "cell_type": "code",
   "execution_count": 227,
   "metadata": {},
   "outputs": [],
   "source": [
    "model.save(\"../model.keras\")"
   ]
  },
  {
   "cell_type": "code",
   "execution_count": 237,
   "metadata": {},
   "outputs": [],
   "source": [
    "test_sequence = X_val[0][2:]"
   ]
  },
  {
   "cell_type": "code",
   "execution_count": 238,
   "metadata": {},
   "outputs": [
    {
     "data": {
      "text/plain": [
       "(29, 14, 10)"
      ]
     },
     "execution_count": 238,
     "metadata": {},
     "output_type": "execute_result"
    }
   ],
   "source": [
    "test_sequence.shape"
   ]
  },
  {
   "cell_type": "code",
   "execution_count": 239,
   "metadata": {},
   "outputs": [
    {
     "name": "stderr",
     "output_type": "stream",
     "text": [
      "2024-11-09 10:58:33.037299: I tensorflow/core/framework/local_rendezvous.cc:405] Local rendezvous is aborting with status: INVALID_ARGUMENT: Matrix size-incompatible: In[0]: [1,1392], In[1]: [1488,24]\n",
      "\t [[{{node sequential_58_1/dense_62_1/Relu}}]]\n"
     ]
    },
    {
     "ename": "InvalidArgumentError",
     "evalue": "Graph execution error:\n\nDetected at node sequential_58_1/dense_62_1/Relu defined at (most recent call last):\n  File \"<frozen runpy>\", line 198, in _run_module_as_main\n\n  File \"<frozen runpy>\", line 88, in _run_code\n\n  File \"/home/davide/VirtualEnvs/junction2024/lib64/python3.12/site-packages/ipykernel_launcher.py\", line 18, in <module>\n\n  File \"/home/davide/VirtualEnvs/junction2024/lib64/python3.12/site-packages/traitlets/config/application.py\", line 1075, in launch_instance\n\n  File \"/home/davide/VirtualEnvs/junction2024/lib64/python3.12/site-packages/ipykernel/kernelapp.py\", line 739, in start\n\n  File \"/home/davide/VirtualEnvs/junction2024/lib64/python3.12/site-packages/tornado/platform/asyncio.py\", line 205, in start\n\n  File \"/usr/lib64/python3.12/asyncio/base_events.py\", line 641, in run_forever\n\n  File \"/usr/lib64/python3.12/asyncio/base_events.py\", line 1986, in _run_once\n\n  File \"/usr/lib64/python3.12/asyncio/events.py\", line 88, in _run\n\n  File \"/home/davide/VirtualEnvs/junction2024/lib64/python3.12/site-packages/ipykernel/kernelbase.py\", line 545, in dispatch_queue\n\n  File \"/home/davide/VirtualEnvs/junction2024/lib64/python3.12/site-packages/ipykernel/kernelbase.py\", line 534, in process_one\n\n  File \"/home/davide/VirtualEnvs/junction2024/lib64/python3.12/site-packages/ipykernel/kernelbase.py\", line 437, in dispatch_shell\n\n  File \"/home/davide/VirtualEnvs/junction2024/lib64/python3.12/site-packages/ipykernel/ipkernel.py\", line 362, in execute_request\n\n  File \"/home/davide/VirtualEnvs/junction2024/lib64/python3.12/site-packages/ipykernel/kernelbase.py\", line 778, in execute_request\n\n  File \"/home/davide/VirtualEnvs/junction2024/lib64/python3.12/site-packages/ipykernel/ipkernel.py\", line 449, in do_execute\n\n  File \"/home/davide/VirtualEnvs/junction2024/lib64/python3.12/site-packages/ipykernel/zmqshell.py\", line 549, in run_cell\n\n  File \"/home/davide/VirtualEnvs/junction2024/lib64/python3.12/site-packages/IPython/core/interactiveshell.py\", line 3075, in run_cell\n\n  File \"/home/davide/VirtualEnvs/junction2024/lib64/python3.12/site-packages/IPython/core/interactiveshell.py\", line 3130, in _run_cell\n\n  File \"/home/davide/VirtualEnvs/junction2024/lib64/python3.12/site-packages/IPython/core/async_helpers.py\", line 128, in _pseudo_sync_runner\n\n  File \"/home/davide/VirtualEnvs/junction2024/lib64/python3.12/site-packages/IPython/core/interactiveshell.py\", line 3334, in run_cell_async\n\n  File \"/home/davide/VirtualEnvs/junction2024/lib64/python3.12/site-packages/IPython/core/interactiveshell.py\", line 3517, in run_ast_nodes\n\n  File \"/home/davide/VirtualEnvs/junction2024/lib64/python3.12/site-packages/IPython/core/interactiveshell.py\", line 3577, in run_code\n\n  File \"/tmp/ipykernel_103493/2110768569.py\", line 1, in <module>\n\n  File \"/home/davide/VirtualEnvs/junction2024/lib64/python3.12/site-packages/keras/src/utils/traceback_utils.py\", line 117, in error_handler\n\n  File \"/home/davide/VirtualEnvs/junction2024/lib64/python3.12/site-packages/keras/src/backend/tensorflow/trainer.py\", line 510, in predict\n\n  File \"/home/davide/VirtualEnvs/junction2024/lib64/python3.12/site-packages/keras/src/backend/tensorflow/trainer.py\", line 208, in one_step_on_data_distributed\n\n  File \"/home/davide/VirtualEnvs/junction2024/lib64/python3.12/site-packages/keras/src/backend/tensorflow/trainer.py\", line 198, in one_step_on_data\n\n  File \"/home/davide/VirtualEnvs/junction2024/lib64/python3.12/site-packages/keras/src/backend/tensorflow/trainer.py\", line 96, in predict_step\n\n  File \"/home/davide/VirtualEnvs/junction2024/lib64/python3.12/site-packages/keras/src/utils/traceback_utils.py\", line 117, in error_handler\n\n  File \"/home/davide/VirtualEnvs/junction2024/lib64/python3.12/site-packages/keras/src/layers/layer.py\", line 899, in __call__\n\n  File \"/home/davide/VirtualEnvs/junction2024/lib64/python3.12/site-packages/keras/src/utils/traceback_utils.py\", line 117, in error_handler\n\n  File \"/home/davide/VirtualEnvs/junction2024/lib64/python3.12/site-packages/keras/src/ops/operation.py\", line 46, in __call__\n\n  File \"/home/davide/VirtualEnvs/junction2024/lib64/python3.12/site-packages/keras/src/utils/traceback_utils.py\", line 156, in error_handler\n\n  File \"/home/davide/VirtualEnvs/junction2024/lib64/python3.12/site-packages/keras/src/models/sequential.py\", line 213, in call\n\n  File \"/home/davide/VirtualEnvs/junction2024/lib64/python3.12/site-packages/keras/src/models/functional.py\", line 182, in call\n\n  File \"/home/davide/VirtualEnvs/junction2024/lib64/python3.12/site-packages/keras/src/ops/function.py\", line 171, in _run_through_graph\n\n  File \"/home/davide/VirtualEnvs/junction2024/lib64/python3.12/site-packages/keras/src/models/functional.py\", line 584, in call\n\n  File \"/home/davide/VirtualEnvs/junction2024/lib64/python3.12/site-packages/keras/src/utils/traceback_utils.py\", line 117, in error_handler\n\n  File \"/home/davide/VirtualEnvs/junction2024/lib64/python3.12/site-packages/keras/src/layers/layer.py\", line 899, in __call__\n\n  File \"/home/davide/VirtualEnvs/junction2024/lib64/python3.12/site-packages/keras/src/utils/traceback_utils.py\", line 117, in error_handler\n\n  File \"/home/davide/VirtualEnvs/junction2024/lib64/python3.12/site-packages/keras/src/ops/operation.py\", line 46, in __call__\n\n  File \"/home/davide/VirtualEnvs/junction2024/lib64/python3.12/site-packages/keras/src/utils/traceback_utils.py\", line 156, in error_handler\n\n  File \"/home/davide/VirtualEnvs/junction2024/lib64/python3.12/site-packages/keras/src/layers/core/dense.py\", line 148, in call\n\n  File \"/home/davide/VirtualEnvs/junction2024/lib64/python3.12/site-packages/keras/src/activations/activations.py\", line 47, in relu\n\n  File \"/home/davide/VirtualEnvs/junction2024/lib64/python3.12/site-packages/keras/src/activations/activations.py\", line 99, in static_call\n\n  File \"/home/davide/VirtualEnvs/junction2024/lib64/python3.12/site-packages/keras/src/backend/tensorflow/nn.py\", line 15, in relu\n\nMatrix size-incompatible: In[0]: [1,1392], In[1]: [1488,24]\n\t [[{{node sequential_58_1/dense_62_1/Relu}}]] [Op:__inference_one_step_on_data_distributed_410974]",
     "output_type": "error",
     "traceback": [
      "\u001b[0;31m---------------------------------------------------------------------------\u001b[0m",
      "\u001b[0;31mInvalidArgumentError\u001b[0m                      Traceback (most recent call last)",
      "Cell \u001b[0;32mIn[239], line 1\u001b[0m\n\u001b[0;32m----> 1\u001b[0m \u001b[43mmodel\u001b[49m\u001b[38;5;241;43m.\u001b[39;49m\u001b[43mpredict\u001b[49m\u001b[43m(\u001b[49m\u001b[43mnp\u001b[49m\u001b[38;5;241;43m.\u001b[39;49m\u001b[43marray\u001b[49m\u001b[43m(\u001b[49m\u001b[43m[\u001b[49m\u001b[43mtest_sequence\u001b[49m\u001b[43m]\u001b[49m\u001b[43m)\u001b[49m\u001b[43m)\u001b[49m\n",
      "File \u001b[0;32m~/VirtualEnvs/junction2024/lib64/python3.12/site-packages/keras/src/utils/traceback_utils.py:122\u001b[0m, in \u001b[0;36mfilter_traceback.<locals>.error_handler\u001b[0;34m(*args, **kwargs)\u001b[0m\n\u001b[1;32m    119\u001b[0m     filtered_tb \u001b[38;5;241m=\u001b[39m _process_traceback_frames(e\u001b[38;5;241m.\u001b[39m__traceback__)\n\u001b[1;32m    120\u001b[0m     \u001b[38;5;66;03m# To get the full stack trace, call:\u001b[39;00m\n\u001b[1;32m    121\u001b[0m     \u001b[38;5;66;03m# `keras.config.disable_traceback_filtering()`\u001b[39;00m\n\u001b[0;32m--> 122\u001b[0m     \u001b[38;5;28;01mraise\u001b[39;00m e\u001b[38;5;241m.\u001b[39mwith_traceback(filtered_tb) \u001b[38;5;28;01mfrom\u001b[39;00m \u001b[38;5;28;01mNone\u001b[39;00m\n\u001b[1;32m    123\u001b[0m \u001b[38;5;28;01mfinally\u001b[39;00m:\n\u001b[1;32m    124\u001b[0m     \u001b[38;5;28;01mdel\u001b[39;00m filtered_tb\n",
      "File \u001b[0;32m~/VirtualEnvs/junction2024/lib64/python3.12/site-packages/tensorflow/python/eager/execute.py:53\u001b[0m, in \u001b[0;36mquick_execute\u001b[0;34m(op_name, num_outputs, inputs, attrs, ctx, name)\u001b[0m\n\u001b[1;32m     51\u001b[0m \u001b[38;5;28;01mtry\u001b[39;00m:\n\u001b[1;32m     52\u001b[0m   ctx\u001b[38;5;241m.\u001b[39mensure_initialized()\n\u001b[0;32m---> 53\u001b[0m   tensors \u001b[38;5;241m=\u001b[39m pywrap_tfe\u001b[38;5;241m.\u001b[39mTFE_Py_Execute(ctx\u001b[38;5;241m.\u001b[39m_handle, device_name, op_name,\n\u001b[1;32m     54\u001b[0m                                       inputs, attrs, num_outputs)\n\u001b[1;32m     55\u001b[0m \u001b[38;5;28;01mexcept\u001b[39;00m core\u001b[38;5;241m.\u001b[39m_NotOkStatusException \u001b[38;5;28;01mas\u001b[39;00m e:\n\u001b[1;32m     56\u001b[0m   \u001b[38;5;28;01mif\u001b[39;00m name \u001b[38;5;129;01mis\u001b[39;00m \u001b[38;5;129;01mnot\u001b[39;00m \u001b[38;5;28;01mNone\u001b[39;00m:\n",
      "\u001b[0;31mInvalidArgumentError\u001b[0m: Graph execution error:\n\nDetected at node sequential_58_1/dense_62_1/Relu defined at (most recent call last):\n  File \"<frozen runpy>\", line 198, in _run_module_as_main\n\n  File \"<frozen runpy>\", line 88, in _run_code\n\n  File \"/home/davide/VirtualEnvs/junction2024/lib64/python3.12/site-packages/ipykernel_launcher.py\", line 18, in <module>\n\n  File \"/home/davide/VirtualEnvs/junction2024/lib64/python3.12/site-packages/traitlets/config/application.py\", line 1075, in launch_instance\n\n  File \"/home/davide/VirtualEnvs/junction2024/lib64/python3.12/site-packages/ipykernel/kernelapp.py\", line 739, in start\n\n  File \"/home/davide/VirtualEnvs/junction2024/lib64/python3.12/site-packages/tornado/platform/asyncio.py\", line 205, in start\n\n  File \"/usr/lib64/python3.12/asyncio/base_events.py\", line 641, in run_forever\n\n  File \"/usr/lib64/python3.12/asyncio/base_events.py\", line 1986, in _run_once\n\n  File \"/usr/lib64/python3.12/asyncio/events.py\", line 88, in _run\n\n  File \"/home/davide/VirtualEnvs/junction2024/lib64/python3.12/site-packages/ipykernel/kernelbase.py\", line 545, in dispatch_queue\n\n  File \"/home/davide/VirtualEnvs/junction2024/lib64/python3.12/site-packages/ipykernel/kernelbase.py\", line 534, in process_one\n\n  File \"/home/davide/VirtualEnvs/junction2024/lib64/python3.12/site-packages/ipykernel/kernelbase.py\", line 437, in dispatch_shell\n\n  File \"/home/davide/VirtualEnvs/junction2024/lib64/python3.12/site-packages/ipykernel/ipkernel.py\", line 362, in execute_request\n\n  File \"/home/davide/VirtualEnvs/junction2024/lib64/python3.12/site-packages/ipykernel/kernelbase.py\", line 778, in execute_request\n\n  File \"/home/davide/VirtualEnvs/junction2024/lib64/python3.12/site-packages/ipykernel/ipkernel.py\", line 449, in do_execute\n\n  File \"/home/davide/VirtualEnvs/junction2024/lib64/python3.12/site-packages/ipykernel/zmqshell.py\", line 549, in run_cell\n\n  File \"/home/davide/VirtualEnvs/junction2024/lib64/python3.12/site-packages/IPython/core/interactiveshell.py\", line 3075, in run_cell\n\n  File \"/home/davide/VirtualEnvs/junction2024/lib64/python3.12/site-packages/IPython/core/interactiveshell.py\", line 3130, in _run_cell\n\n  File \"/home/davide/VirtualEnvs/junction2024/lib64/python3.12/site-packages/IPython/core/async_helpers.py\", line 128, in _pseudo_sync_runner\n\n  File \"/home/davide/VirtualEnvs/junction2024/lib64/python3.12/site-packages/IPython/core/interactiveshell.py\", line 3334, in run_cell_async\n\n  File \"/home/davide/VirtualEnvs/junction2024/lib64/python3.12/site-packages/IPython/core/interactiveshell.py\", line 3517, in run_ast_nodes\n\n  File \"/home/davide/VirtualEnvs/junction2024/lib64/python3.12/site-packages/IPython/core/interactiveshell.py\", line 3577, in run_code\n\n  File \"/tmp/ipykernel_103493/2110768569.py\", line 1, in <module>\n\n  File \"/home/davide/VirtualEnvs/junction2024/lib64/python3.12/site-packages/keras/src/utils/traceback_utils.py\", line 117, in error_handler\n\n  File \"/home/davide/VirtualEnvs/junction2024/lib64/python3.12/site-packages/keras/src/backend/tensorflow/trainer.py\", line 510, in predict\n\n  File \"/home/davide/VirtualEnvs/junction2024/lib64/python3.12/site-packages/keras/src/backend/tensorflow/trainer.py\", line 208, in one_step_on_data_distributed\n\n  File \"/home/davide/VirtualEnvs/junction2024/lib64/python3.12/site-packages/keras/src/backend/tensorflow/trainer.py\", line 198, in one_step_on_data\n\n  File \"/home/davide/VirtualEnvs/junction2024/lib64/python3.12/site-packages/keras/src/backend/tensorflow/trainer.py\", line 96, in predict_step\n\n  File \"/home/davide/VirtualEnvs/junction2024/lib64/python3.12/site-packages/keras/src/utils/traceback_utils.py\", line 117, in error_handler\n\n  File \"/home/davide/VirtualEnvs/junction2024/lib64/python3.12/site-packages/keras/src/layers/layer.py\", line 899, in __call__\n\n  File \"/home/davide/VirtualEnvs/junction2024/lib64/python3.12/site-packages/keras/src/utils/traceback_utils.py\", line 117, in error_handler\n\n  File \"/home/davide/VirtualEnvs/junction2024/lib64/python3.12/site-packages/keras/src/ops/operation.py\", line 46, in __call__\n\n  File \"/home/davide/VirtualEnvs/junction2024/lib64/python3.12/site-packages/keras/src/utils/traceback_utils.py\", line 156, in error_handler\n\n  File \"/home/davide/VirtualEnvs/junction2024/lib64/python3.12/site-packages/keras/src/models/sequential.py\", line 213, in call\n\n  File \"/home/davide/VirtualEnvs/junction2024/lib64/python3.12/site-packages/keras/src/models/functional.py\", line 182, in call\n\n  File \"/home/davide/VirtualEnvs/junction2024/lib64/python3.12/site-packages/keras/src/ops/function.py\", line 171, in _run_through_graph\n\n  File \"/home/davide/VirtualEnvs/junction2024/lib64/python3.12/site-packages/keras/src/models/functional.py\", line 584, in call\n\n  File \"/home/davide/VirtualEnvs/junction2024/lib64/python3.12/site-packages/keras/src/utils/traceback_utils.py\", line 117, in error_handler\n\n  File \"/home/davide/VirtualEnvs/junction2024/lib64/python3.12/site-packages/keras/src/layers/layer.py\", line 899, in __call__\n\n  File \"/home/davide/VirtualEnvs/junction2024/lib64/python3.12/site-packages/keras/src/utils/traceback_utils.py\", line 117, in error_handler\n\n  File \"/home/davide/VirtualEnvs/junction2024/lib64/python3.12/site-packages/keras/src/ops/operation.py\", line 46, in __call__\n\n  File \"/home/davide/VirtualEnvs/junction2024/lib64/python3.12/site-packages/keras/src/utils/traceback_utils.py\", line 156, in error_handler\n\n  File \"/home/davide/VirtualEnvs/junction2024/lib64/python3.12/site-packages/keras/src/layers/core/dense.py\", line 148, in call\n\n  File \"/home/davide/VirtualEnvs/junction2024/lib64/python3.12/site-packages/keras/src/activations/activations.py\", line 47, in relu\n\n  File \"/home/davide/VirtualEnvs/junction2024/lib64/python3.12/site-packages/keras/src/activations/activations.py\", line 99, in static_call\n\n  File \"/home/davide/VirtualEnvs/junction2024/lib64/python3.12/site-packages/keras/src/backend/tensorflow/nn.py\", line 15, in relu\n\nMatrix size-incompatible: In[0]: [1,1392], In[1]: [1488,24]\n\t [[{{node sequential_58_1/dense_62_1/Relu}}]] [Op:__inference_one_step_on_data_distributed_410974]"
     ]
    }
   ],
   "source": [
    "model.predict(np.array([test_sequence]))"
   ]
  },
  {
   "cell_type": "code",
   "execution_count": 231,
   "metadata": {},
   "outputs": [],
   "source": [
    "import tensorflow as tf"
   ]
  },
  {
   "cell_type": "code",
   "execution_count": 233,
   "metadata": {},
   "outputs": [
    {
     "name": "stdout",
     "output_type": "stream",
     "text": [
      "INFO:tensorflow:Assets written to: /tmp/tmpt0uzl9cn/assets\n"
     ]
    },
    {
     "name": "stderr",
     "output_type": "stream",
     "text": [
      "INFO:tensorflow:Assets written to: /tmp/tmpt0uzl9cn/assets\n"
     ]
    },
    {
     "name": "stdout",
     "output_type": "stream",
     "text": [
      "Saved artifact at '/tmp/tmpt0uzl9cn'. The following endpoints are available:\n",
      "\n",
      "* Endpoint 'serve'\n",
      "  args_0 (POSITIONAL_ONLY): TensorSpec(shape=(None, 31, 14, 10), dtype=tf.float32, name='keras_tensor_193')\n",
      "Output Type:\n",
      "  TensorSpec(shape=(None, 1), dtype=tf.float32, name=None)\n",
      "Captures:\n",
      "  140151797443536: TensorSpec(shape=(), dtype=tf.resource, name=None)\n",
      "  140151797444304: TensorSpec(shape=(), dtype=tf.resource, name=None)\n",
      "  140151797445072: TensorSpec(shape=(), dtype=tf.resource, name=None)\n",
      "  140151797444112: TensorSpec(shape=(), dtype=tf.resource, name=None)\n",
      "  140151797446032: TensorSpec(shape=(), dtype=tf.resource, name=None)\n",
      "  140151797445456: TensorSpec(shape=(), dtype=tf.resource, name=None)\n",
      "  140151797446800: TensorSpec(shape=(), dtype=tf.resource, name=None)\n"
     ]
    },
    {
     "name": "stderr",
     "output_type": "stream",
     "text": [
      "W0000 00:00:1731142459.656147  103493 tf_tfl_flatbuffer_helpers.cc:365] Ignored output_format.\n",
      "W0000 00:00:1731142459.656184  103493 tf_tfl_flatbuffer_helpers.cc:368] Ignored drop_control_dependency.\n",
      "2024-11-09 10:54:19.656413: I tensorflow/cc/saved_model/reader.cc:83] Reading SavedModel from: /tmp/tmpt0uzl9cn\n",
      "2024-11-09 10:54:19.660569: I tensorflow/cc/saved_model/reader.cc:52] Reading meta graph with tags { serve }\n",
      "2024-11-09 10:54:19.660598: I tensorflow/cc/saved_model/reader.cc:147] Reading SavedModel debug info (if present) from: /tmp/tmpt0uzl9cn\n",
      "2024-11-09 10:54:19.749064: I tensorflow/cc/saved_model/loader.cc:236] Restoring SavedModel bundle.\n",
      "2024-11-09 10:54:19.911827: I tensorflow/cc/saved_model/loader.cc:220] Running initialization op on SavedModel bundle at path: /tmp/tmpt0uzl9cn\n",
      "2024-11-09 10:54:20.056121: I tensorflow/cc/saved_model/loader.cc:466] SavedModel load for tags { serve }; Status: success: OK. Took 399713 microseconds.\n",
      "2024-11-09 10:54:20.769833: W tensorflow/compiler/mlir/lite/flatbuffer_export.cc:3825] TFLite interpreter needs to link Flex delegate in order to run the model since it contains the following Select TFop(s):\n",
      "Flex ops: FlexTensorListReserve, FlexTensorListSetItem, FlexTensorListStack\n",
      "Details:\n",
      "\ttf.TensorListReserve(tensor<2xi32>, tensor<i32>) -> (tensor<!tf_type.variant<tensor<?x48xf32>>>) : {device = \"\"}\n",
      "\ttf.TensorListSetItem(tensor<!tf_type.variant<tensor<?x48xf32>>>, tensor<i32>, tensor<?x48xf32>) -> (tensor<!tf_type.variant<tensor<?x48xf32>>>) : {device = \"\", resize_if_index_out_of_bounds = false}\n",
      "\ttf.TensorListStack(tensor<!tf_type.variant<tensor<?x48xf32>>>, tensor<2xi32>) -> (tensor<1x?x48xf32>) : {device = \"\", num_elements = 1 : i64}\n",
      "See instructions: https://www.tensorflow.org/lite/guide/ops_select\n"
     ]
    }
   ],
   "source": [
    "converter = tf.lite.TFLiteConverter.from_keras_model(model)\n",
    "converter.target_spec.supported_ops = [tf.lite.OpsSet.TFLITE_BUILTINS, tf.lite.OpsSet.SELECT_TF_OPS]\n",
    "converter._experimental_lower_tensor_list_ops = False\n",
    "tflite_model = converter.convert()\n",
    "\n",
    "# Save the model.\n",
    "with open('model.tflite', 'wb') as f:\n",
    "  f.write(tflite_model)\n",
    "\n"
   ]
  }
 ],
 "metadata": {
  "kernelspec": {
   "display_name": "junction2024",
   "language": "python",
   "name": "python3"
  },
  "language_info": {
   "codemirror_mode": {
    "name": "ipython",
    "version": 3
   },
   "file_extension": ".py",
   "mimetype": "text/x-python",
   "name": "python",
   "nbconvert_exporter": "python",
   "pygments_lexer": "ipython3",
   "version": "3.12.7"
  }
 },
 "nbformat": 4,
 "nbformat_minor": 2
}
